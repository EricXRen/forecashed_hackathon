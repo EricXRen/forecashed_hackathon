{
 "cells": [
  {
   "cell_type": "markdown",
   "id": "a219d914-4d62-47b1-a875-cb34d8bedddf",
   "metadata": {},
   "source": [
    "# Customer Model on GCP "
   ]
  },
  {
   "cell_type": "markdown",
   "id": "7ed423d8-442f-49f4-b0f6-0496978c7f6b",
   "metadata": {},
   "source": [
    "## Play with BQML\n",
    "\n",
    "To re-create the BQML recommender in Notebook\n",
    "\n",
    "Ref: https://cloud.google.com/bigquery-ml/docs/reference/standard-sql/bigqueryml-syntax-create-matrix-factorization\n",
    "\n",
    "From BQML Guide:\n",
    "* https://cloud.google.com/bigquery-ml/docs/bigqueryml-mf-explicit-tutorial\n",
    "* https://cloud.google.com/bigquery-ml/docs/bigqueryml-mf-implicit-tutorial\n"
   ]
  },
  {
   "cell_type": "code",
   "execution_count": null,
   "id": "5ac4a168-5d0b-411f-9684-cf0088a4c327",
   "metadata": {},
   "outputs": [],
   "source": [
    "from google.cloud import bigquery\n",
    "\n",
    "client = bigquery.Client(location=\"US\")"
   ]
  },
  {
   "cell_type": "code",
   "execution_count": null,
   "id": "14ac2da4-6326-444b-8210-be727d6146cc",
   "metadata": {},
   "outputs": [],
   "source": []
  },
  {
   "cell_type": "markdown",
   "id": "57911062-4a76-4df0-a2b6-bb966019337a",
   "metadata": {},
   "source": [
    "### Create dataset for data and model"
   ]
  },
  {
   "cell_type": "code",
   "execution_count": null,
   "id": "eb626590-d776-430f-88bf-efb221423f55",
   "metadata": {},
   "outputs": [],
   "source": [
    "dataset = client.create_dataset(\"bqml_recommender\")"
   ]
  },
  {
   "cell_type": "code",
   "execution_count": null,
   "id": "13cf08df-ea21-48c5-a92b-205f9368ec56",
   "metadata": {},
   "outputs": [],
   "source": []
  },
  {
   "cell_type": "markdown",
   "id": "75435307-203a-423d-9959-2232cf18d83f",
   "metadata": {},
   "source": [
    "### Load GoogleAnalytics 360 data into BigQuery "
   ]
  },
  {
   "cell_type": "code",
   "execution_count": null,
   "id": "c22b88f8-8674-44c5-a5d4-d3a99cae1956",
   "metadata": {},
   "outputs": [],
   "source": [
    "%%bigquery\n",
    "\n",
    "CREATE OR REPLACE TABLE bqml_recommender.analytics_session_data AS\n",
    "WITH\n",
    " visitor_page_content AS (\n",
    " SELECT\n",
    "   fullVisitorID,\n",
    "   (\n",
    "   SELECT\n",
    "     MAX(\n",
    "     IF\n",
    "       (index=10,\n",
    "         value,\n",
    "         NULL))\n",
    "   FROM\n",
    "     UNNEST(hits.customDimensions)) AS latestContentId,\n",
    "   (LEAD(hits.time, 1)\n",
    "     OVER (PARTITION BY fullVisitorId ORDER BY hits.time ASC) - hits.time)\n",
    "             AS session_duration\n",
    " FROM\n",
    "   `cloud-training-demos.GA360_test.ga_sessions_sample`,\n",
    "   UNNEST(hits) AS hits\n",
    " WHERE\n",
    "   # only include hits on pages\n",
    "   hits.type = \"PAGE\"\n",
    " GROUP BY\n",
    "   fullVisitorId,\n",
    "   latestContentId,\n",
    "   hits.time )\n",
    " # aggregate web stats\n",
    "SELECT\n",
    " fullVisitorID AS visitorId,\n",
    " latestContentId AS contentId,\n",
    " SUM(session_duration) AS session_duration\n",
    "FROM\n",
    " visitor_page_content\n",
    "WHERE\n",
    " latestContentId IS NOT NULL\n",
    "GROUP BY\n",
    " fullVisitorID,\n",
    " latestContentId\n",
    "HAVING\n",
    " session_duration > 0\n",
    "ORDER BY\n",
    " latestContentId\n"
   ]
  },
  {
   "cell_type": "markdown",
   "id": "d4908e3e-cac4-44e5-a102-d32bd1441cb8",
   "metadata": {},
   "source": [
    "Query directly using `%%bigquery` magic return a Pandas DataFrame to workspace.\n",
    "\n",
    "Or using the `df = client.query(sql).to_dataframe()` to return the DataFrame"
   ]
  },
  {
   "cell_type": "code",
   "execution_count": null,
   "id": "0f288f69-3a11-4e70-a337-61ab7d2415d3",
   "metadata": {},
   "outputs": [],
   "source": [
    "%%bigquery\n",
    "\n",
    "SELECT *\n",
    "FROM bqml_recommender.analytics_session_data\n",
    "LIMIT 10;"
   ]
  },
  {
   "cell_type": "code",
   "execution_count": null,
   "id": "d5e6c70a-faaf-4fb5-86ef-5b7e6e243a66",
   "metadata": {},
   "outputs": [],
   "source": [
    "_"
   ]
  },
  {
   "cell_type": "code",
   "execution_count": null,
   "id": "b10470f5-25cf-440a-a7e0-3e74dd6e26dc",
   "metadata": {},
   "outputs": [],
   "source": [
    "sql = \"\"\"\n",
    "SELECT *\n",
    "FROM bqml_recommender.analytics_session_data\n",
    "LIMIT 10;\n",
    "\"\"\"\n",
    "\n",
    "df = client.query(sql).to_dataframe()\n",
    "df.head()"
   ]
  },
  {
   "cell_type": "code",
   "execution_count": null,
   "id": "cf32d426-db98-4569-b2f4-59f2855247da",
   "metadata": {},
   "outputs": [],
   "source": []
  },
  {
   "cell_type": "markdown",
   "id": "9295c172-1fd5-409c-a55c-207dcc8d2009",
   "metadata": {},
   "source": [
    "### Create and Train Model\n",
    "\n",
    "Ref: https://cloud.google.com/bigquery-ml/docs/reference/standard-sql/bigqueryml-syntax-create-matrix-factorization\n"
   ]
  },
  {
   "cell_type": "code",
   "execution_count": null,
   "id": "55860426-e9fb-4cdf-b685-fd02f4308a30",
   "metadata": {},
   "outputs": [],
   "source": [
    "%%bigquery\n",
    "\n",
    "CREATE OR REPLACE MODEL bqml_recommender.retail_recommender\n",
    "OPTIONS\n",
    "  (model_type='matrix_factorization',\n",
    "   feedback_type='implicit',\n",
    "   user_col='visitorId',\n",
    "   item_col='contentId',\n",
    "   rating_col='rating',\n",
    "   l2_reg=30,\n",
    "   num_factors=15) AS\n",
    "SELECT\n",
    "  visitorId,\n",
    "  contentId,\n",
    "  0.3 * (1 + (session_duration - 57937) / 57937) AS rating\n",
    "FROM bqml_recommender.analytics_session_data\n",
    "WHERE 0.3 * (1 + (session_duration - 57937) / 57937) < 1\n"
   ]
  },
  {
   "cell_type": "code",
   "execution_count": null,
   "id": "bbb0aec6-2fd8-41d4-aba2-d0736fc7d6b1",
   "metadata": {},
   "outputs": [],
   "source": []
  },
  {
   "cell_type": "markdown",
   "id": "e508cfc3-3c97-49cb-bc8e-ecdff63e9682",
   "metadata": {},
   "source": [
    "### Evaluation\n",
    "\n",
    "Ref: [Ranking metrics](https://cloud.google.com/bigquery-ml/docs/reference/standard-sql/bigqueryml-syntax-evaluate) "
   ]
  },
  {
   "cell_type": "code",
   "execution_count": null,
   "id": "8eb3eca9-6636-4dc4-8052-381c88b3189e",
   "metadata": {},
   "outputs": [],
   "source": [
    "%%bigquery\n",
    "\n",
    "SELECT\n",
    "  *\n",
    "FROM\n",
    "  ML.EVALUATE(MODEL `bqml_recommender.retail_recommender`)"
   ]
  },
  {
   "cell_type": "code",
   "execution_count": null,
   "id": "9357c55f-b5af-413e-aa7b-72916a10161c",
   "metadata": {},
   "outputs": [],
   "source": []
  },
  {
   "cell_type": "markdown",
   "id": "d0e0712b-952f-47e1-ba4e-61065f3c6eca",
   "metadata": {},
   "source": [
    "### Make Predictions"
   ]
  },
  {
   "cell_type": "code",
   "execution_count": null,
   "id": "5fcaf55e-a068-4790-bc83-a327a427cd4b",
   "metadata": {},
   "outputs": [],
   "source": [
    "%%bigquery\n",
    "\n",
    "SELECT * FROM \n",
    "    ML.RECOMMEND(MODEL bqml_recommender.retail_recommender,\n",
    "        (\n",
    "        SELECT visitorId\n",
    "        FROM bqml_recommender.analytics_session_data\n",
    "        LIMIT 5\n",
    "        )\n",
    "    )"
   ]
  },
  {
   "cell_type": "code",
   "execution_count": null,
   "id": "89dcb336-0495-4062-93e5-c3dd7c2de153",
   "metadata": {},
   "outputs": [],
   "source": []
  },
  {
   "cell_type": "markdown",
   "id": "ac7b6323-c8e5-4d1d-acaa-0e5f08720871",
   "metadata": {},
   "source": [
    "### Confidence Rating of user-item pair for all\n",
    "\n",
    "This confidence value approximately lies between 0 and 1 where the higher confidence indicates that the user prefers item more than an item with a lower confidence value.\n",
    "\n",
    "The output is saved in a table for others to query."
   ]
  },
  {
   "cell_type": "code",
   "execution_count": null,
   "id": "07c2f90f-3564-46e9-9754-637a09a9ce6a",
   "metadata": {},
   "outputs": [],
   "source": [
    "%%bigquery\n",
    "\n",
    "CREATE OR REPLACE TABLE bqml_recommender.recommend_content\n",
    "OPTIONS() AS\n",
    "    SELECT *\n",
    "    FROM ML.RECOMMEND(MODEL bqml_recommender.retail_recommender)"
   ]
  },
  {
   "cell_type": "code",
   "execution_count": null,
   "id": "013f9887-10ae-4c45-b698-15a721ecf927",
   "metadata": {},
   "outputs": [],
   "source": []
  }
 ],
 "metadata": {
  "kernelspec": {
   "display_name": "TensorFlow 2 [conda env:root] * (Local)",
   "language": "python",
   "name": "local-conda-root-tf2"
  },
  "language_info": {
   "codemirror_mode": {
    "name": "ipython",
    "version": 3
   },
   "file_extension": ".py",
   "mimetype": "text/x-python",
   "name": "python",
   "nbconvert_exporter": "python",
   "pygments_lexer": "ipython3",
   "version": "3.7.12"
  },
  "toc-autonumbering": false,
  "toc-showcode": false,
  "toc-showtags": false
 },
 "nbformat": 4,
 "nbformat_minor": 5
}
